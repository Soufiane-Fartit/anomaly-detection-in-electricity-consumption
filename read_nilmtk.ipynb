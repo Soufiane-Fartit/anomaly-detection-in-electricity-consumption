{
 "cells": [
  {
   "cell_type": "code",
   "execution_count": null,
   "metadata": {},
   "outputs": [],
   "source": [
    "#imports\n",
    "\n",
    "import warnings\n",
    "warnings.filterwarnings('ignore')\n",
    "\n",
    "from nilmtk import DataSet\n",
    "import pandas as pd\n",
    "import numpy as np\n",
    "import matplotlib.pyplot as plt\n",
    "import statistics\n",
    "import random\n",
    "from sklearn.model_selection import train_test_split\n",
    "from sklearn import preprocessing\n"
   ]
  },
  {
   "cell_type": "code",
   "execution_count": null,
   "metadata": {},
   "outputs": [],
   "source": [
    "def read_data(train_building, meter_key, neg=0):\n",
    "    #data = pd.HDFStore(\"/home/soufiane/Bureau/internship/data/ukdale.h5\")\n",
    "    data = DataSet('/home/soufiane/Bureau/internship/data/ukdale.h5')\n",
    "    data_elec = data.buildings[train_building].elec\n",
    "    data_meter = data_elec.submeters()[meter_key]\n",
    "\n",
    "    start_time = data_meter.get_timeframe().start\n",
    "    #print(start_time.hour)\n",
    "    #sampling each hour = 3600 seconds\n",
    "    sampled = next(data_meter.load(sample_period=3600))\n",
    "\n",
    "    #transform to numpy array of 24*356*4 elements\n",
    "    M = np.array(sampled)\n",
    "    lenght = M.shape[0]\n",
    "    M = M[:-(lenght%24)]\n",
    "    M = M.reshape(lenght//24,24)\n",
    "\n",
    "    M = M[~np.all(M == 0, axis=1)]\n",
    "\n",
    "    M = M.reshape(len(M),24,1)\n",
    "    for i in range(len(M)):\n",
    "        M[i] = np.roll(M[i], -start_time.hour)\n",
    "\n",
    "    #M = preprocessing.normalize(M)\n",
    "    M = M/(max([max(x) for x in M]))\n",
    "\n",
    "    U = []\n",
    "    for x in M:\n",
    "        RAN = np.array([random.uniform(0, 2) for i in range(24)])\n",
    "        RAN = np.expand_dims(RAN,axis=2)\n",
    "        y = x*RAN\n",
    "        U.append(y)\n",
    "    V = []\n",
    "    for x in M:\n",
    "        RAN = np.array([random.uniform(0, 2) for i in range(24)])\n",
    "        RAN = np.expand_dims(RAN,axis=2)\n",
    "        y = x*RAN\n",
    "        V.append(y)\n",
    "\n",
    "    for i in range(len(U)):\n",
    "        U[i] = np.roll(U[i], 8)\n",
    "        V[i] = np.roll(V[i], -8)\n",
    "\n",
    "    dada = [0 for i in range(len(M))]\n",
    "    x_train, x_test, _, __ = train_test_split(M, dada, test_size=0.20)\n",
    "    u_train, u_test, _, __ = train_test_split(U, dada, test_size=0.20)\n",
    "    v_train, v_test, _, __ = train_test_split(V, dada, test_size=0.20)\n",
    "\n",
    "    u_train = np.array(u_train)\n",
    "    u_test = np.array(u_test)\n",
    "\n",
    "    if neg==0:\n",
    "        return x_train, x_test, u_train, u_test\n",
    "    else:\n",
    "        return x_train, x_test, u_train, u_test, v_train, v_test"
   ]
  }
 ],
 "metadata": {
  "kernelspec": {
   "display_name": "Python 3",
   "language": "python",
   "name": "python3"
  },
  "language_info": {
   "codemirror_mode": {
    "name": "ipython",
    "version": 2
   },
   "file_extension": ".py",
   "mimetype": "text/x-python",
   "name": "python",
   "nbconvert_exporter": "python",
   "pygments_lexer": "ipython2",
   "version": "2.7.15+"
  }
 },
 "nbformat": 4,
 "nbformat_minor": 2
}
